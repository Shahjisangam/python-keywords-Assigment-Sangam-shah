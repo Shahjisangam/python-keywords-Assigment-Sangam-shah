{
 "cells": [
  {
   "cell_type": "code",
   "execution_count": 1,
   "id": "25967598-95d4-4ba5-b777-b796382835d7",
   "metadata": {},
   "outputs": [],
   "source": [
    "# Ques No. 01 Explain the significance of Python keywords and provide examples of five keywords"
   ]
  },
  {
   "cell_type": "markdown",
   "id": "ac1ab29f-f9a5-41fc-bf8b-ca49ac0f55ec",
   "metadata": {},
   "source": [
    "Python keywords hold special meanings within the language and cannot be used as identifiers (such as variable names, function names, etc.). They play a critical role in defining the syntax and structure of Python programs, and they serve as instructions to the interpreter on how to execute certain operations. Here are the significances of Python keywords:\n",
    "\n",
    "Syntax Definition: Keywords define the syntax and structure of Python programs, including control flow constructs like loops and conditionals, as well as function and class definitions.\n",
    "Built-in Functionality: Keywords represent built-in functionalities or operations provided by Python. They enable fundamental operations such as variable assignment, function definition, and control flow.\n",
    "Prevention of Ambiguity: By reserving specific words as keywords, Python prevents developers from using them as variable names or other identifiers. This ensures clarity and prevents ambiguity in the code.\n",
    "Standardization: Python keywords provide consistency and standardization to the language. They ensure that code written in Python follows a standard syntax and can be easily understood by other developers.\n",
    "Reserved Usage: Python keywords are reserved for specific purposes within the language, ensuring that they are not inadvertently overridden or redefined by user-defined code.\n",
    "Here are examples of five Python keywords along with their significances:\n",
    "\n",
    "if, elif, else: These keywords are used for conditional statements. They allow you to execute different blocks of code based on certain conditions. Example:"
   ]
  },
  {
   "cell_type": "code",
   "execution_count": 2,
   "id": "e5b8cf16-659c-412c-a910-a0dc3558d005",
   "metadata": {},
   "outputs": [
    {
     "ename": "IndentationError",
     "evalue": "expected an indented block after 'if' statement on line 1 (3871570954.py, line 3)",
     "output_type": "error",
     "traceback": [
      "\u001b[0;36m  Cell \u001b[0;32mIn[2], line 3\u001b[0;36m\u001b[0m\n\u001b[0;31m    elif another_condition:\u001b[0m\n\u001b[0m    ^\u001b[0m\n\u001b[0;31mIndentationError\u001b[0m\u001b[0;31m:\u001b[0m expected an indented block after 'if' statement on line 1\n"
     ]
    }
   ],
   "source": [
    "if condition:\n",
    "    # code block\n",
    "elif another_condition:\n",
    "    # code block\n",
    "else:\n",
    "    # code block\n"
   ]
  },
  {
   "cell_type": "markdown",
   "id": "ad74189d-66ef-4d40-b6d3-e7ff3fec3dbf",
   "metadata": {},
   "source": [
    "for, while: These keywords are used for loops. They allow you to iterate over sequences or execute code repeatedly until a condition is met. Example:"
   ]
  },
  {
   "cell_type": "code",
   "execution_count": 3,
   "id": "49c1c41a-ba81-45c0-913b-7af12a4ee30f",
   "metadata": {},
   "outputs": [
    {
     "ename": "IndentationError",
     "evalue": "expected an indented block after 'for' statement on line 1 (4006631762.py, line 4)",
     "output_type": "error",
     "traceback": [
      "\u001b[0;36m  Cell \u001b[0;32mIn[3], line 4\u001b[0;36m\u001b[0m\n\u001b[0;31m    while condition:\u001b[0m\n\u001b[0m    ^\u001b[0m\n\u001b[0;31mIndentationError\u001b[0m\u001b[0;31m:\u001b[0m expected an indented block after 'for' statement on line 1\n"
     ]
    }
   ],
   "source": [
    "for item in iterable:\n",
    "    # code block\n",
    "\n",
    "while condition:\n",
    "    # code block\n"
   ]
  },
  {
   "cell_type": "markdown",
   "id": "e13b2357-49aa-4dd2-9e0d-9c39cd25f397",
   "metadata": {},
   "source": [
    "def, return: These keywords are used for defining functions and returning values from functions, respectively. They are fundamental for organizing and reusing code. Example:"
   ]
  },
  {
   "cell_type": "code",
   "execution_count": 4,
   "id": "b2d86808-88ca-461f-9499-b812cc22184b",
   "metadata": {},
   "outputs": [],
   "source": [
    "def my_function(arg1, arg2):\n",
    "    # code block\n",
    "    return result\n"
   ]
  },
  {
   "cell_type": "markdown",
   "id": "7e6f22b2-4675-469a-ba28-6c48b4d4a4ef",
   "metadata": {},
   "source": [
    "import, from, as: These keywords are used for importing modules and managing namespaces. They enable you to use code from external libraries and control how you refer to them. Example:"
   ]
  },
  {
   "cell_type": "code",
   "execution_count": 5,
   "id": "70faf2e3-4330-418b-8b94-99ccac7d21c2",
   "metadata": {},
   "outputs": [
    {
     "ename": "ModuleNotFoundError",
     "evalue": "No module named 'module_name'",
     "output_type": "error",
     "traceback": [
      "\u001b[0;31m---------------------------------------------------------------------------\u001b[0m",
      "\u001b[0;31mModuleNotFoundError\u001b[0m                       Traceback (most recent call last)",
      "Cell \u001b[0;32mIn[5], line 1\u001b[0m\n\u001b[0;32m----> 1\u001b[0m \u001b[38;5;28;01mimport\u001b[39;00m \u001b[38;5;21;01mmodule_name\u001b[39;00m\n\u001b[1;32m      2\u001b[0m \u001b[38;5;28;01mfrom\u001b[39;00m \u001b[38;5;21;01mmodule_name\u001b[39;00m \u001b[38;5;28;01mimport\u001b[39;00m function_name\n\u001b[1;32m      3\u001b[0m \u001b[38;5;28;01mimport\u001b[39;00m \u001b[38;5;21;01mmodule_name\u001b[39;00m \u001b[38;5;28;01mas\u001b[39;00m \u001b[38;5;21;01malias\u001b[39;00m\n",
      "\u001b[0;31mModuleNotFoundError\u001b[0m: No module named 'module_name'"
     ]
    }
   ],
   "source": [
    "import module_name\n",
    "from module_name import function_name\n",
    "import module_name as alias\n"
   ]
  },
  {
   "cell_type": "markdown",
   "id": "18e023d2-e0bd-49ca-ace9-cd4a2b283773",
   "metadata": {},
   "source": [
    "class, self: These keywords are used for defining classes and accessing class attributes and methods within class definitions. They are essential for object-oriented programming in Python. Example:"
   ]
  },
  {
   "cell_type": "code",
   "execution_count": 6,
   "id": "748e1053-e276-45e5-8d81-10362b9690a6",
   "metadata": {},
   "outputs": [
    {
     "ename": "SyntaxError",
     "evalue": "incomplete input (3274242464.py, line 7)",
     "output_type": "error",
     "traceback": [
      "\u001b[0;36m  Cell \u001b[0;32mIn[6], line 7\u001b[0;36m\u001b[0m\n\u001b[0;31m    # code block\u001b[0m\n\u001b[0m                ^\u001b[0m\n\u001b[0;31mSyntaxError\u001b[0m\u001b[0;31m:\u001b[0m incomplete input\n"
     ]
    }
   ],
   "source": [
    "class MyClass:\n",
    "    def __init__(self, attribute1, attribute2):\n",
    "        self.attribute1 = attribute1\n",
    "        self.attribute2 = attribute2\n",
    "\n",
    "    def method(self):\n",
    "        # code block\n"
   ]
  },
  {
   "cell_type": "code",
   "execution_count": 7,
   "id": "27cc69c8-425f-42c0-b0bb-a92d35e10fb6",
   "metadata": {},
   "outputs": [],
   "source": [
    "# Ques No.- 02 Descri0e the rules for defining identifiers in Python and provide an example"
   ]
  },
  {
   "cell_type": "markdown",
   "id": "82f3c019-a7a8-4039-856f-9594f0034633",
   "metadata": {},
   "source": [
    "In Python, identifiers are names given to various programming elements such as variables, functions, classes, modules, etc. Here are the rules for defining identifiers in Python:\n",
    "\n",
    "Valid Characters: Identifiers can contain letters (both uppercase and lowercase), digits (0-9), and underscores (_). They must start with a letter or an underscore, but not with a digit.\n",
    "Case Sensitivity: Python is case-sensitive, meaning that myVar, MyVar, and myvar are considered different identifiers.\n",
    "Reserved Words: Identifiers cannot be the same as Python keywords or reserved words.\n",
    "Length: There is no limit on the length of identifiers in Python, but it's recommended to keep them reasonably short for readability.\n",
    "Whitespace: Identifiers cannot contain whitespace characters such as spaces or tabs.\n",
    "Special Characters: Identifiers cannot contain special characters like !, @, #, $, %, etc., except for the underscore (_).\n",
    "PEP 8: It's a convention in Python to use lowercase letters for variable names and lowercase letters separated by underscores for function and variable names longer than one word (i.e., snake_case). Classes typically use CamelCase.\n",
    "Here's an example demonstrating valid and invalid identifiers:\n",
    "\n"
   ]
  },
  {
   "cell_type": "code",
   "execution_count": 8,
   "id": "3dac24c8-ece8-43c0-a881-800987ae33ee",
   "metadata": {},
   "outputs": [
    {
     "ename": "SyntaxError",
     "evalue": "invalid decimal literal (3236786385.py, line 8)",
     "output_type": "error",
     "traceback": [
      "\u001b[0;36m  Cell \u001b[0;32mIn[8], line 8\u001b[0;36m\u001b[0m\n\u001b[0;31m    1variable = 5          # Identifier cannot start with a digit\u001b[0m\n\u001b[0m    ^\u001b[0m\n\u001b[0;31mSyntaxError\u001b[0m\u001b[0;31m:\u001b[0m invalid decimal literal\n"
     ]
    }
   ],
   "source": [
    "# Valid identifiers\n",
    "my_variable = 10\n",
    "MyClass = \"Hello\"\n",
    "my_function = lambda x: x * 2\n",
    "_this_is_valid_too = True\n",
    "\n",
    "# Invalid identifiers\n",
    "1variable = 5          # Identifier cannot start with a digit\n",
    "my-variable = 3        # Identifier cannot contain hyphens\n",
    "my variable = \"Hello\"  # Identifier cannot contain whitespace\n",
    "class = \"MyClass\"      # Identifier cannot be a reserved word\n"
   ]
  },
  {
   "cell_type": "markdown",
   "id": "0ed88f90-cc1c-4c01-9ce7-b5bd94668f07",
   "metadata": {},
   "source": [
    "In this example, my_variable, MyClass, my_function, and _this_is_valid_too are valid identifiers, following the rules mentioned above. Conversely, 1variable, my-variable, my variable, and class are invalid identifiers because they violate one or more of the rules."
   ]
  },
  {
   "cell_type": "code",
   "execution_count": 10,
   "id": "ed8fe493-0362-43ac-880e-d136bf3439ab",
   "metadata": {},
   "outputs": [],
   "source": [
    "# Ques No. - 03 What are comments in Python, and why are they useful? Provide an example"
   ]
  },
  {
   "cell_type": "markdown",
   "id": "67871eb1-7db8-4a8b-b4da-c3f7502d08e2",
   "metadata": {},
   "source": [
    "In Python, comments are non-executable lines of text that are used to provide explanations or annotations within the code. Comments are completely ignored by the Python interpreter and serve only as documentation or notes for the human readers of the code.\n",
    "\n",
    "Comments are useful for several reasons:\n",
    "\n",
    "Documentation: Comments help to explain the purpose, functionality, or usage of code segments. They make the code easier to understand for other developers who might work on or maintain the code in the future.\n",
    "Clarity: Comments can clarify complex or confusing parts of the code, making it easier to follow and debug.\n",
    "Testing: Comments can be used to temporarily disable certain parts of the code during testing or debugging without having to delete them.\n",
    "Reminder: Comments can serve as reminders or to-do lists for future improvements or changes needed in the code.\n",
    "Here's an example demonstrating the use of comments in Python:\n",
    "\n"
   ]
  },
  {
   "cell_type": "code",
   "execution_count": 11,
   "id": "60706482-37e8-4b87-b620-aa45782c0644",
   "metadata": {},
   "outputs": [
    {
     "name": "stdout",
     "output_type": "stream",
     "text": [
      "The square of 5 is: 25\n"
     ]
    }
   ],
   "source": [
    "# This is a single-line comment\n",
    "\n",
    "\"\"\"\n",
    "This is a multi-line comment.\n",
    "It spans multiple lines.\n",
    "\"\"\"\n",
    "\n",
    "# Define a function to calculate the square of a number\n",
    "def square(x):\n",
    "    \"\"\"\n",
    "    This function calculates the square of a number.\n",
    "    \n",
    "    Parameters:\n",
    "    x (int): The number to be squared.\n",
    "    \n",
    "    Returns:\n",
    "    int: The square of the input number.\n",
    "    \"\"\"\n",
    "    return x * x\n",
    "\n",
    "# Usage example\n",
    "result = square(5)  # Calculate the square of 5\n",
    "print(\"The square of 5 is:\", result)  # Print the result\n"
   ]
  },
  {
   "cell_type": "markdown",
   "id": "389392e6-ba00-4690-afb5-14600d996371",
   "metadata": {},
   "source": [
    "In this example:\n",
    "\n",
    "Single-line comments start with #.\n",
    "Multi-line comments are enclosed within triple quotes (\"\"\").\n",
    "Comments are used to explain the purpose of the function square(), its parameters, and its return value.\n",
    "Comments also provide context for the usage example of the square() function."
   ]
  },
  {
   "cell_type": "code",
   "execution_count": 12,
   "id": "8032fcda-6159-47ae-b3cb-f932ad73843b",
   "metadata": {},
   "outputs": [],
   "source": [
    "# Ques No. - 04 Why is proper indentation important in Python?"
   ]
  },
  {
   "cell_type": "markdown",
   "id": "42082b22-564c-4345-b26a-767d60ab0ccc",
   "metadata": {},
   "source": [
    "Proper indentation is crucial in Python because it determines the structure and readability of the code. Unlike many other programming languages that use curly braces {} or keywords like begin and end to define blocks of code, Python uses indentation to denote blocks. Here's why proper indentation is important in Python:\n",
    "\n",
    "Syntax: In Python, indentation is part of the language syntax. Incorrect indentation can lead to syntax errors and cause the code to behave differently than intended or not run at all.\n",
    "Readability: Proper indentation makes the code more readable and understandable. It visually separates different blocks of code, such as loops, conditional statements, and function definitions, making it easier for other developers (or even your future self) to follow the logic of the program.\n",
    "Clarity: Indentation helps to convey the structure of the code. It clearly shows the hierarchy of nested blocks, such as nested loops or conditional statements, which improves code clarity.\n",
    "Consistency: Consistent indentation style throughout the codebase makes it easier to maintain and collaborate on the code with other developers. It ensures that everyone follows the same coding standards, reducing confusion and potential errors.\n",
    "Debugging: Proper indentation can aid in debugging by visually identifying the scope of variables and the flow of execution. It helps you to quickly locate and understand potential issues in the code.\n",
    "Here's an example illustrating the importance of proper indentation in Python:"
   ]
  },
  {
   "cell_type": "code",
   "execution_count": 13,
   "id": "df24e13b-bd59-4410-b857-fbe8e7c002b8",
   "metadata": {},
   "outputs": [
    {
     "ename": "IndentationError",
     "evalue": "expected an indented block after 'if' statement on line 2 (3169027382.py, line 3)",
     "output_type": "error",
     "traceback": [
      "\u001b[0;36m  Cell \u001b[0;32mIn[13], line 3\u001b[0;36m\u001b[0m\n\u001b[0;31m    print(\"Indentation is incorrect!\")  # This line will raise an IndentationError\u001b[0m\n\u001b[0m    ^\u001b[0m\n\u001b[0;31mIndentationError\u001b[0m\u001b[0;31m:\u001b[0m expected an indented block after 'if' statement on line 2\n"
     ]
    }
   ],
   "source": [
    "# Incorrect indentation\n",
    "if True:\n",
    "print(\"Indentation is incorrect!\")  # This line will raise an IndentationError\n",
    "\n",
    "# Correct indentation\n",
    "if True:\n",
    "    print(\"Indentation is correct!\")  # This line is properly indented and will run without errors\n"
   ]
  },
  {
   "cell_type": "markdown",
   "id": "746afc1a-a5a2-43d8-aac8-5b5db8945817",
   "metadata": {},
   "source": [
    "In the first example, the lack of proper indentation causes a syntax error (IndentationError). In the second example, the code is correctly indented, making it syntactically valid and easy to understand."
   ]
  },
  {
   "cell_type": "code",
   "execution_count": 14,
   "id": "7d356c6b-56de-4598-ba74-15afb50acd62",
   "metadata": {},
   "outputs": [],
   "source": [
    "# Ques no. - 05. What happens if indentation is incorrect in Python?"
   ]
  },
  {
   "cell_type": "markdown",
   "id": "abb77ccd-5cea-4803-9eae-55064bc20822",
   "metadata": {},
   "source": [
    "If indentation is incorrect in Python, it will result in an IndentationError. This error indicates that there is a problem with the indentation of the code, such as incorrect spacing or mixing of tabs and spaces. Python relies on consistent indentation to determine the structure and nesting of blocks of code, such as loops, conditional statements, and function definitions.\n",
    "\n",
    "Here's an example to illustrate what happens when indentation is incorrect:"
   ]
  },
  {
   "cell_type": "code",
   "execution_count": 15,
   "id": "64c998d5-e295-44bb-a5ac-73f8aca54532",
   "metadata": {},
   "outputs": [
    {
     "ename": "IndentationError",
     "evalue": "expected an indented block after 'if' statement on line 2 (2009948722.py, line 3)",
     "output_type": "error",
     "traceback": [
      "\u001b[0;36m  Cell \u001b[0;32mIn[15], line 3\u001b[0;36m\u001b[0m\n\u001b[0;31m    print(\"Indentation is incorrect!\")  # This line will raise an IndentationError\u001b[0m\n\u001b[0m    ^\u001b[0m\n\u001b[0;31mIndentationError\u001b[0m\u001b[0;31m:\u001b[0m expected an indented block after 'if' statement on line 2\n"
     ]
    }
   ],
   "source": [
    "# Incorrect indentation\n",
    "if True:\n",
    "print(\"Indentation is incorrect!\")  # This line will raise an IndentationError\n"
   ]
  },
  {
   "cell_type": "markdown",
   "id": "46d54184-c484-49d9-9f74-ae9481977ee7",
   "metadata": {},
   "source": [
    "When you run this code, you'll encounter an IndentationError:"
   ]
  },
  {
   "cell_type": "code",
   "execution_count": 17,
   "id": "4e38ce1d-5090-40c1-a685-7e3425186717",
   "metadata": {},
   "outputs": [
    {
     "ename": "SyntaxError",
     "evalue": "invalid syntax (2289963726.py, line 1)",
     "output_type": "error",
     "traceback": [
      "\u001b[0;36m  Cell \u001b[0;32mIn[17], line 1\u001b[0;36m\u001b[0m\n\u001b[0;31m    IndentationError: expected an indented block\u001b[0m\n\u001b[0m                               ^\u001b[0m\n\u001b[0;31mSyntaxError\u001b[0m\u001b[0;31m:\u001b[0m invalid syntax\n"
     ]
    }
   ],
   "source": [
    "IndentationError: expected an indented block\n"
   ]
  },
  {
   "cell_type": "markdown",
   "id": "0c119abe-4c2b-4346-ad0b-c0895b7f113c",
   "metadata": {},
   "source": [
    "This error message indicates that Python was expecting an indented block of code following the if statement, but instead found a line of code that is not properly indented. In Python, all statements within a block must have the same level of indentation to indicate that they belong to the same block. In this case, the print() statement should be indented to be part of the if block.\n",
    "\n",
    "To fix the error, you need to correct the indentation by ensuring that the statements within the if block are properly aligned:"
   ]
  },
  {
   "cell_type": "code",
   "execution_count": 18,
   "id": "fd7a1618-fc3f-4022-ac1a-72fbeb4d9eed",
   "metadata": {},
   "outputs": [
    {
     "name": "stdout",
     "output_type": "stream",
     "text": [
      "Indentation is correct!\n"
     ]
    }
   ],
   "source": [
    "# Correct indentation\n",
    "if True:\n",
    "    print(\"Indentation is correct!\")  # This line is properly indented and will run without errors\n"
   ]
  },
  {
   "cell_type": "markdown",
   "id": "fa578cf1-f556-4010-84be-24e8e2a22139",
   "metadata": {},
   "source": [
    "In this corrected version, the print() statement is indented with four spaces to indicate that it belongs to the if block. This code will run without any errors."
   ]
  },
  {
   "cell_type": "code",
   "execution_count": 19,
   "id": "3ad7fe1c-6b52-4e01-b804-e89c79068ff5",
   "metadata": {},
   "outputs": [],
   "source": [
    "# Ques no. -06 Differentiate between expression and statement in Python with examples"
   ]
  },
  {
   "cell_type": "markdown",
   "id": "8848c5a1-77cb-4bc8-a007-0584e6789f75",
   "metadata": {},
   "source": [
    "In Python, expressions and statements are two fundamental components of the language, but they serve different purposes and have different characteristics.\n",
    "\n",
    "Expression:\n",
    "An expression is a combination of variables, operators, and function calls that evaluates to a value.\n",
    "Expressions can be simple, like a single variable or literal value, or complex, involving multiple operators and function calls.\n",
    "Expressions can be used wherever a value is expected, such as in variable assignments, function arguments, or as part of larger expressions.\n",
    "Examples of expressions:\n"
   ]
  },
  {
   "cell_type": "code",
   "execution_count": 20,
   "id": "fb176812-b8ac-407f-a4fc-f80d09766e58",
   "metadata": {},
   "outputs": [
    {
     "name": "stdout",
     "output_type": "stream",
     "text": [
      "x is positive\n",
      "0\n",
      "1\n",
      "2\n",
      "3\n",
      "4\n"
     ]
    }
   ],
   "source": [
    "# Assignment statement\n",
    "x = 10\n",
    "\n",
    "# Conditional statement\n",
    "if x > 0:\n",
    "    print(\"x is positive\")\n",
    "\n",
    "# Loop statement\n",
    "for i in range(5):\n",
    "    print(i)\n",
    "\n",
    "# Function definition statement\n",
    "def my_function(x):\n",
    "    return x * 2\n"
   ]
  },
  {
   "cell_type": "markdown",
   "id": "f3197969-61d9-4c19-8a77-fcf8bd06b5a6",
   "metadata": {},
   "source": [
    "In summary, expressions are used to compute values, while statements are used to perform actions or control the flow of execution in a program. Expressions can be part of statements, but not all statements contain expressions."
   ]
  },
  {
   "cell_type": "code",
   "execution_count": null,
   "id": "b10b9d71-5b79-4608-92e5-69580459bf19",
   "metadata": {},
   "outputs": [],
   "source": []
  }
 ],
 "metadata": {
  "kernelspec": {
   "display_name": "Python 3 (ipykernel)",
   "language": "python",
   "name": "python3"
  },
  "language_info": {
   "codemirror_mode": {
    "name": "ipython",
    "version": 3
   },
   "file_extension": ".py",
   "mimetype": "text/x-python",
   "name": "python",
   "nbconvert_exporter": "python",
   "pygments_lexer": "ipython3",
   "version": "3.10.8"
  }
 },
 "nbformat": 4,
 "nbformat_minor": 5
}
